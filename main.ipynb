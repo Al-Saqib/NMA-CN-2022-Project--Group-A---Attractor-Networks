{
 "cells": [
  {
   "cell_type": "markdown",
   "id": "OXnmTnJP3NSB",
   "metadata": {
    "id": "OXnmTnJP3NSB",
    "pycharm": {
     "name": "#%% md\n"
    }
   },
   "source": [
    "# Hopfield Network Attractor Project"
   ]
  },
  {
   "cell_type": "code",
   "execution_count": 1,
   "id": "ebed637e-6801-43e7-ace9-0ec034e17c2e",
   "metadata": {
    "id": "ebed637e-6801-43e7-ace9-0ec034e17c2e",
    "pycharm": {
     "name": "#%%\n"
    }
   },
   "outputs": [
    {
     "ename": "SyntaxError",
     "evalue": "invalid syntax (hopfield.py, line 73)",
     "output_type": "error",
     "traceback": [
      "Traceback \u001B[1;36m(most recent call last)\u001B[0m:\n",
      "  File \u001B[0;32m\"C:\\Users\\saqib\\anaconda3\\lib\\site-packages\\IPython\\core\\interactiveshell.py\"\u001B[0m, line \u001B[0;32m3418\u001B[0m, in \u001B[0;35mrun_code\u001B[0m\n    exec(code_obj, self.user_global_ns, self.user_ns)\n",
      "\u001B[1;36m  File \u001B[1;32m\"<ipython-input-1-ae7c4556bb1f>\"\u001B[1;36m, line \u001B[1;32m6\u001B[1;36m, in \u001B[1;35m<module>\u001B[1;36m\u001B[0m\n\u001B[1;33m    import hopfield\u001B[0m\n",
      "\u001B[1;36m  File \u001B[1;32m\"C:\\Users\\saqib\\PycharmProjects\\NMA-CN-2022-Project--Group-A---Attractor-Networks\\hopfield.py\"\u001B[1;36m, line \u001B[1;32m73\u001B[0m\n\u001B[1;33m    def IS_sync_tanh(self, X, N, gradient=1000, threshold=1):\u001B[0m\n\u001B[1;37m    ^\u001B[0m\n\u001B[1;31mSyntaxError\u001B[0m\u001B[1;31m:\u001B[0m invalid syntax\n"
     ]
    }
   ],
   "source": [
    "import numpy as np\n",
    "import matplotlib.pyplot as plt\n",
    "\n",
    "import imageio as iio\n",
    "\n",
    "import hopfield\n",
    "import learning_rules as lrn\n",
    "import activation_functions as afn\n",
    "import utilities as uti\n"
   ]
  },
  {
   "cell_type": "markdown",
   "id": "203ee584-1de6-4b8f-bc13-ef4e15834143",
   "metadata": {
    "id": "203ee584-1de6-4b8f-bc13-ef4e15834143",
    "pycharm": {
     "name": "#%% md\n"
    }
   },
   "source": [
    "## Dataset Preparation"
   ]
  },
  {
   "cell_type": "markdown",
   "id": "a376f438-6832-4e22-9a74-a31cfa76d21f",
   "metadata": {
    "id": "a376f438-6832-4e22-9a74-a31cfa76d21f",
    "pycharm": {
     "name": "#%% md\n"
    }
   },
   "source": [
    "### Dataset 2 (Demo, whole letters)"
   ]
  },
  {
   "cell_type": "code",
   "execution_count": null,
   "id": "55bc7e1c-989b-46af-aa37-90ac8b2be088",
   "metadata": {
    "colab": {
     "base_uri": "https://localhost:8080/"
    },
    "id": "55bc7e1c-989b-46af-aa37-90ac8b2be088",
    "outputId": "38e4fb5f-3a1c-4bd5-b6a0-6cc1f13c39d9",
    "pycharm": {
     "name": "#%%\n"
    }
   },
   "outputs": [],
   "source": [
    "# read an image\n",
    "img = iio.imread(\"./images/pixel-arial-11-font-character-map.png\")\n",
    "# print(img.shape)\n",
    "plt.imshow(img)"
   ]
  },
  {
   "cell_type": "code",
   "execution_count": null,
   "id": "-GDXn5o7gllc",
   "metadata": {
    "id": "-GDXn5o7gllc",
    "pycharm": {
     "name": "#%%\n"
    }
   },
   "outputs": [],
   "source": [
    "# Calculate all letters up to resolution 100\n",
    "\n",
    "LETTERS_RESOLUTION = [uti.generate_all_letter_dataset(img, new_size=1)]\n",
    "for i in range(0, 100):\n",
    "    LETTERS_RESOLUTION.append(uti.generate_all_letter_dataset(img, new_size = i+1))"
   ]
  },
  {
   "cell_type": "code",
   "execution_count": null,
   "id": "RQKMWLtleE6D",
   "metadata": {
    "id": "RQKMWLtleE6D",
    "pycharm": {
     "name": "#%%\n"
    }
   },
   "outputs": [],
   "source": [
    "# # Set the letter resolution\n",
    "\n",
    "# all_letter_final = uti.generate_all_letter_dataset(img, new_size = 6)\n",
    "# # print(all_letter_final)\n",
    "# print(all_letter_final.shape)\n",
    "# for i in range(9):\n",
    "#     for j in range(9):\n",
    "#         arr = all_letter_final[9 * i + j]\n",
    "#         ax = plt.subplot(9, 9, i * 9 + j + 1)\n",
    "#         show_letter(arr, ax)"
   ]
  },
  {
   "cell_type": "code",
   "execution_count": null,
   "id": "ZdHa7xfNdLpJ",
   "metadata": {
    "id": "ZdHa7xfNdLpJ",
    "pycharm": {
     "name": "#%%\n"
    }
   },
   "outputs": [],
   "source": [
    "LETTERS_RESOLUTION[10].shape\n",
    "all_letter_final = LETTERS_RESOLUTION[10]\n",
    "for i in range(9):\n",
    "    for j in range(9):\n",
    "        arr = all_letter_final[9 * i + j]\n",
    "        ax = plt.subplot(9, 9, i * 9 + j + 1)\n",
    "        uti.show_letter(arr, ax)"
   ]
  },
  {
   "cell_type": "markdown",
   "id": "cRWUtYa3A2I5",
   "metadata": {
    "id": "cRWUtYa3A2I5",
    "pycharm": {
     "name": "#%% md\n"
    }
   },
   "source": [
    "### Dataset 3 (MNIST)"
   ]
  },
  {
   "cell_type": "code",
   "execution_count": null,
   "id": "sTYYJtyJA5ww",
   "metadata": {
    "id": "sTYYJtyJA5ww",
    "pycharm": {
     "name": "#%%\n"
    }
   },
   "outputs": [],
   "source": [
    "# from sklearn.datasets import fetch_openml\n",
    "\n",
    "# # GET mnist data\n",
    "# mnist = fetch_openml(name='mnist_784', as_frame = False)\n",
    "# mnist_X = mnist.data\n",
    "# mnist_X.shape\n",
    "\n",
    "# import matplotlib.pyplot as plt\n",
    "# show_first_n = 10\n",
    "# for i in range(show_first_n):\n",
    "#   plt.subplot(1, show_first_n, i +1)\n",
    "#   plt.imshow(mnist_X[i].reshape(28, 28))"
   ]
  },
  {
   "cell_type": "markdown",
   "id": "DZGxbf2B3WPT",
   "metadata": {
    "id": "DZGxbf2B3WPT",
    "pycharm": {
     "name": "#%% md\n"
    }
   },
   "source": [
    "### Dataset 4(Demyan)"
   ]
  },
  {
   "cell_type": "code",
   "execution_count": null,
   "id": "G6eRiQcl4bK_",
   "metadata": {
    "id": "G6eRiQcl4bK_",
    "pycharm": {
     "name": "#%%\n"
    }
   },
   "outputs": [],
   "source": [
    "# all_images_dem = np.empty((6, 200 * 200))\n",
    "all_images_dem = np.empty((6, 50 * 50))\n",
    "for i in range(6):\n",
    "  img = iio.imread(f\"./images/hand_drawn/dem_{i+1}.jpg\")\n",
    "  print(img.shape)\n",
    "  new_img = img.copy().astype(\"int\")\n",
    "  new_img[new_img < 100] = -1\n",
    "  new_img[new_img >= 100] = 1\n",
    "  new_img = new_img[::4, ::4]\n",
    "  all_images_dem[i] = new_img.reshape(-1).copy()\n",
    "\n",
    "# img = iio.imread(f\"/content/drive/MyDrive/Attractor Network Project/Images/Hand Drawn/dem_1.jpg\")\n",
    "# all_images_dem.shape\n",
    "# plt.hist(img.reshape(-1))\n",
    "# img_set = set(tuple(img.reshape(-1).tolist()))\n",
    "# print(img_set)"
   ]
  },
  {
   "cell_type": "code",
   "execution_count": null,
   "id": "CBzQ1Bag4tKW",
   "metadata": {
    "id": "CBzQ1Bag4tKW",
    "pycharm": {
     "name": "#%%\n"
    }
   },
   "outputs": [],
   "source": [
    "fig, axs = plt.subplots(1, 6)\n",
    "for i in range(6):\n",
    "  uti.show_letter(all_images_dem[i], axs[i])\n"
   ]
  },
  {
   "cell_type": "markdown",
   "id": "fbf0c67a-7496-4de1-9f88-8823f168b749",
   "metadata": {
    "id": "fbf0c67a-7496-4de1-9f88-8823f168b749",
    "pycharm": {
     "name": "#%% md\n"
    }
   },
   "source": [
    "# Training and validation process"
   ]
  },
  {
   "cell_type": "markdown",
   "id": "f74d9f32-d8c3-4e8a-88a1-58fae0a32eba",
   "metadata": {
    "id": "f74d9f32-d8c3-4e8a-88a1-58fae0a32eba",
    "pycharm": {
     "name": "#%% md\n"
    }
   },
   "source": [
    "### Demo for dataset 2"
   ]
  },
  {
   "cell_type": "code",
   "execution_count": null,
   "id": "likCT4U3nxIF",
   "metadata": {
    "id": "likCT4U3nxIF",
    "pycharm": {
     "name": "#%%\n"
    }
   },
   "outputs": [],
   "source": [
    "# Setup and train\n",
    "np.random.seed(0)\n",
    "letter_index = [0,1 ,2,3]\n",
    "letter_res = 4\n",
    "\n",
    "all_letter_dataset = LETTERS_RESOLUTION[letter_res][letter_index]\n",
    "\n",
    "# all_letter_dataset = np.random.randint(0, 1)\n",
    "n_image, image_size = all_letter_dataset.shape\n",
    "print(f\"Num of images = {n_image}\")\n",
    "\n",
    "hop_net = hopfield.HopfieldNetwork()\n",
    "hop_net.TS_hebbian(all_letter_dataset)\n",
    "\n",
    "# alphabet preview\n",
    "letter_preview = LETTERS_RESOLUTION[letter_res]\n",
    "print(letter_preview.shape)\n",
    "for i in range(9):\n",
    "    for j in range(9):\n",
    "        arr = letter_preview[9 * i + j]\n",
    "        ax = plt.subplot(9, 9, i * 9 + j + 1)\n",
    "        uti.show_letter(arr, ax)"
   ]
  },
  {
   "cell_type": "code",
   "execution_count": null,
   "id": "pYZkGT2_zZ6S",
   "metadata": {
    "id": "pYZkGT2_zZ6S",
    "pycharm": {
     "name": "#%%\n"
    }
   },
   "outputs": [],
   "source": [
    "for (i, j) in [(0, 1), (0, 2), (0, 3)]:\n",
    "  print(i, j, np.corrcoef(all_letter_dataset[i], all_letter_dataset[j])[0][1])\n",
    "\n"
   ]
  },
  {
   "cell_type": "code",
   "execution_count": null,
   "id": "7a9e0641-ab67-4c80-a271-7745f249c299",
   "metadata": {
    "id": "7a9e0641-ab67-4c80-a271-7745f249c299",
    "pycharm": {
     "name": "#%%\n"
    }
   },
   "outputs": [],
   "source": [
    "# TODO: try to implement this thing where it shows the letters we're using?\n",
    "# I duno how to do it in one plot...\n",
    "\n",
    "# Show chosen letters\n",
    "# for i, ltr in enumerate(all_letter_dataset):\n",
    "#     ax = plt.subplot(2, graph_len, i+1)\n",
    "#     show_letter(ltr, ax)\n",
    "\n",
    "# Run the inference\n",
    "\n",
    "noise_level = .0\n",
    "# n_test_samples = 1000\n",
    "n_test_samples = 10\n",
    "n_iter = 100\n",
    "show_last_n_letters = 3\n",
    "for i in range(n_test_samples):\n",
    "    # pick random image\n",
    "    letter_idx = np.random.randint(0, n_image)\n",
    "\n",
    "    # set custom letter index\n",
    "    # letter_idx = 1\n",
    "\n",
    "    # add noise\n",
    "    x_test = all_letter_dataset[letter_idx].copy()\n",
    "    x_test = uti.add_noise(x_test, noise_level=noise_level)\n",
    "    Xs = hop_net.IS_sync_tanh(x_test, N=n_iter)\n",
    "\n",
    "    # plot input\n",
    "    ax = plt.subplot(n_test_samples, 2, i*2+1)\n",
    "    uti.show_letter(x_test, ax)\n",
    "    ax = plt.subplot(n_test_samples, 2, i*2+2)\n",
    "    uti.show_letter(Xs[-1], ax)\n",
    "\n",
    "    # # plot last n entries\n",
    "    # for i, X in enumerate(Xs[-3:]):\n",
    "    #     ax = plt.subplot(1, show_last_n_letters + 2, i+3)\n",
    "    #     show_letter(X, ax)\n",
    "        \n",
    "    # TODO: evaluate the function"
   ]
  },
  {
   "cell_type": "markdown",
   "id": "WFtuBRFXFJiS",
   "metadata": {
    "id": "WFtuBRFXFJiS",
    "pycharm": {
     "name": "#%% md\n"
    }
   },
   "source": [
    "### A demo for validation"
   ]
  },
  {
   "cell_type": "code",
   "execution_count": null,
   "id": "T49XaJ3NFIMC",
   "metadata": {
    "id": "T49XaJ3NFIMC",
    "pycharm": {
     "name": "#%%\n"
    }
   },
   "outputs": [],
   "source": [
    "# np.random.seed(0)\n",
    "\n",
    "# all_letter_dataset = uti.generate_all_letter_dataset(img, new_size = 150)\n",
    "# all_letter_dataset = all_letter_dataset[[10, 20, 30, 5]]\n",
    "# # all_letter_dataset = all_letter_dataset[::-1]\n",
    "# n_image, image_size = all_letter_dataset.shape\n",
    "# print(f\"Num of images = {n_image}\")\n",
    "\n",
    "# hop_net = HopfieldNetwork()\n",
    "# hop_net.TS_hebbian(all_letter_dataset)\n",
    "\n",
    "# noise_level = .20\n",
    "# # n_test_samples = 1000\n",
    "# n_test_samples = 1\n",
    "# n_iter = 1000\n",
    "# for i in range(n_test_samples):\n",
    "#     # add noise\n",
    "#     # random_idx = np.random.randint(0, n_image - 1)\n",
    "#     random_idx = 3\n",
    "#     print(random_idx)\n",
    "#     x_test = all_letter_dataset[random_idx].copy()\n",
    "#     x_test = add_noise(x_test, noise_level=noise_level)\n",
    "#     is_correct, error = hop_net.score(x_test, random_idx)\n",
    "#     print(is_correct, error)\n",
    "#     if i == 0:\n",
    "#       fig, axs = plt.subplots(1, 6)\n",
    "#       show_letter(all_letter_dataset[0], axs[0])\n",
    "#       show_letter(all_letter_dataset[1], axs[1])\n",
    "#       show_letter(all_letter_dataset[2], axs[2])\n",
    "#       show_letter(all_letter_dataset[3], axs[3])\n",
    "#       show_letter(x_test, axs[4])\n",
    "#       show_letter(hop_net.IS_sync_tanh(x_test)[-1], axs[5])\n",
    "   "
   ]
  },
  {
   "cell_type": "markdown",
   "id": "YiRr1safhDYV",
   "metadata": {
    "id": "YiRr1safhDYV",
    "pycharm": {
     "name": "#%% md\n"
    }
   },
   "source": [
    "### Demo for dataset 3"
   ]
  },
  {
   "cell_type": "code",
   "execution_count": null,
   "id": "DZBiqLtTlaGU",
   "metadata": {
    "id": "DZBiqLtTlaGU",
    "pycharm": {
     "name": "#%%\n"
    }
   },
   "outputs": [],
   "source": [
    "mnist_X[0].min(),mnist_X[0].max()"
   ]
  },
  {
   "cell_type": "code",
   "execution_count": null,
   "id": "6K6q4oRHlqPV",
   "metadata": {
    "id": "6K6q4oRHlqPV",
    "pycharm": {
     "name": "#%%\n"
    }
   },
   "outputs": [],
   "source": [
    "n_images = 10\n",
    "all_letter_dataset = mnist_X[:n_images].copy()\n",
    "all_letter_dataset[all_letter_dataset < 10] = -1\n",
    "all_letter_dataset[all_letter_dataset >= 10] = 1\n",
    "\n",
    "for i in range(n_images):\n",
    "  ax = plt.subplot(1, n_images, i+1)\n",
    "  uti.show_letter(all_letter_dataset[i], ax)\n"
   ]
  },
  {
   "cell_type": "code",
   "execution_count": null,
   "id": "ZE4tlLE9hFP_",
   "metadata": {
    "id": "ZE4tlLE9hFP_",
    "pycharm": {
     "name": "#%%\n"
    }
   },
   "outputs": [],
   "source": [
    "hop_net = hopfield.HopfieldNetwork()\n",
    "hop_net.TS_hebbian(all_letter_dataset)\n",
    "\n",
    "noise_level = .20\n",
    "# n_test_samples = 1000\n",
    "n_test_samples = 50\n",
    "n_iter = 1000\n",
    "for i in range(n_test_samples):\n",
    "    # add noise\n",
    "    random_idx = np.random.randint(0, n_images)\n",
    "    # random_idx = 3\n",
    "    x_test = all_letter_dataset[random_idx].copy()\n",
    "    x_test = uti.add_noise(x_test, noise_level=noise_level)\n",
    "    Xs = hop_net.IS_sync_tanh(x_test, 10)\n",
    "    is_correct, error = hop_net._validate(x_test, random_idx)\n",
    "    print(random_idx, is_correct, error)\n",
    "\n",
    "    ax = plt.subplot(n_test_samples, 2, i * 2 +1)\n",
    "    uti.show_letter(x_test, ax)\n",
    "    ax = plt.subplot(n_test_samples, 2, i * 2 +2)\n",
    "    uti.show_letter(Xs[-1], ax)\n"
   ]
  },
  {
   "cell_type": "code",
   "execution_count": null,
   "id": "hpSYFn-q73pz",
   "metadata": {
    "id": "hpSYFn-q73pz",
    "pycharm": {
     "name": "#%%\n"
    }
   },
   "outputs": [],
   "source": [
    "import seaborn as sns\n",
    "sns.heatmap(hop_net.weights)"
   ]
  },
  {
   "cell_type": "code",
   "execution_count": null,
   "id": "WLO1cCk464xW",
   "metadata": {
    "id": "WLO1cCk464xW",
    "pycharm": {
     "name": "#%%\n"
    }
   },
   "outputs": [],
   "source": [
    "sns.heatmap(hop_net.weights[:100, :100])"
   ]
  },
  {
   "cell_type": "markdown",
   "id": "aV_lValM7Tsp",
   "metadata": {
    "id": "aV_lValM7Tsp",
    "pycharm": {
     "name": "#%% md\n"
    }
   },
   "source": [
    "### Demo for Dataset 4"
   ]
  },
  {
   "cell_type": "code",
   "execution_count": null,
   "id": "foXJxhl-7WWW",
   "metadata": {
    "id": "foXJxhl-7WWW",
    "pycharm": {
     "name": "#%%\n"
    }
   },
   "outputs": [],
   "source": [
    "# all_images_dem\n",
    "hop_net = uti.HopfieldNetwork()\n",
    "hop_net.TS_storkey(all_images_dem)\n",
    "\n",
    "noise_level = .0\n",
    "# n_test_samples = 1000\n",
    "n_test_samples = 1\n",
    "n_iter = 1000\n",
    "n_images = len(all_images_dem)\n",
    "for i in range(n_test_samples):\n",
    "    # add noise\n",
    "    # random_idx = np.random.randint(0, n_images)\n",
    "    random_idx = 2\n",
    "    x_test = all_images_dem[random_idx].copy()\n",
    "    x_test = uti.add_noise(x_test, noise_level=noise_level)\n",
    "    Xs = hop_net.IS_sync_tanh(x_test, 10)\n",
    "    is_correct, error = hop_net._validate(x_test, random_idx)\n",
    "    print(random_idx, is_correct, error)\n",
    "\n",
    "    ax = plt.subplot(n_test_samples, 2, i * 2 + 1)\n",
    "    uti.show_letter(x_test, ax)\n",
    "    ax = plt.subplot(n_test_samples, 2, i * 2 + 2)\n",
    "    uti.show_letter(Xs[-1], ax)\n"
   ]
  },
  {
   "cell_type": "markdown",
   "id": "sLqtgJGhdzKg",
   "metadata": {
    "id": "sLqtgJGhdzKg",
    "pycharm": {
     "name": "#%% md\n"
    }
   },
   "source": [
    "# Let's do experiments"
   ]
  },
  {
   "cell_type": "markdown",
   "id": "zkSb71ird2F2",
   "metadata": {
    "id": "zkSb71ird2F2",
    "pycharm": {
     "name": "#%% md\n"
    }
   },
   "source": [
    "### Exp 1: only changing number of neurons"
   ]
  },
  {
   "cell_type": "code",
   "execution_count": null,
   "id": "l3NukCefd6C9",
   "metadata": {
    "id": "l3NukCefd6C9",
    "pycharm": {
     "name": "#%%\n"
    }
   },
   "outputs": [],
   "source": [
    "res = 16\n",
    "ninput = 4\n",
    "noise_level = .20\n",
    "# n_test_samples = 1000\n",
    "n_test_samples = 10\n",
    "n_iter = 4\n",
    "show_last_n_letters = 3\n",
    "np.random.seed(4)\n",
    "\n",
    "def do_test(res, dataset, noise_level, n_test_samples, show_last_n_letters):\n",
    "  ninput = dataset.shape[0]\n",
    "  hop_net = hopfield.HopfieldNetwork()\n",
    "  hop_net.TS_hebbian(dataset)\n",
    "  # for i in range(ninput):\n",
    "  #   ax = plt.subplot(1, ninput, i+1)\n",
    "  #   show_letter(dataset[i], ax)\n",
    "  pm = PerformanceMetric()\n",
    "\n",
    "  for i in range(n_test_samples):\n",
    "    # pick random image\n",
    "    letter_idx = np.random.randint(0, ninput - 1)\n",
    "    # set custom letter index\n",
    "    # letter_idx = 1\n",
    "\n",
    "    # add noise\n",
    "    x_test_raw = all_letter_dataset[letter_idx].copy()\n",
    "    x_test = uti.add_noise(x_test_raw, noise_level=noise_level)\n",
    "    Xs = hop_net.IS_sync_tanh(x_test, N=n_iter)\n",
    "    \n",
    "    is_correct, error = hop_net._validate(Xs[-1], letter_idx)\n",
    "    # print(hop_net.time())\n",
    "    # print(hop_net.energy())\n",
    "    # print(is_correct, error)\n",
    "    pm.time.append(hop_net.time())\n",
    "    pm.energy.append(hop_net.energy())\n",
    "    pm.is_correct.append(is_correct)\n",
    "    pm.error.append(error)\n",
    "  return pm\n",
    "    \n",
    "    # print(hop_net.perf())\n",
    "    # # plot input\n",
    "    # ax = plt.subplot(1, show_last_n_letters + 1, 1)\n",
    "    # show_letter(x_test_raw, ax)\n",
    "\n",
    "    # # plot last n entries\n",
    "    # for i, X in enumerate(Xs[-3:]):\n",
    "    #     ax = plt.subplot(1, show_last_n_letters + 1, i+2)\n",
    "    #     show_letter(X, ax)\n",
    "\n",
    "# this_letter_dataset = LETTERS_RESOLUTION[letter_res][range(0, ninput)]\n",
    "all_letter_dataset = mnist_X[:ninput]\n",
    "pm = do_test(res, all_letter_dataset, noise_level, n_test_samples, show_last_n_letters)"
   ]
  },
  {
   "cell_type": "code",
   "execution_count": null,
   "id": "wtBscoS5pnXl",
   "metadata": {
    "id": "wtBscoS5pnXl",
    "pycharm": {
     "name": "#%%\n"
    }
   },
   "outputs": [],
   "source": [
    "# pms = []\n",
    "# min_res, max_res = 1, 10\n",
    "# n_test_samples = 30\n",
    "# neurons = [x**2 for x in range(min_res, max_res)]\n",
    "# np.random.seed(10)\n",
    "# for res in range(min_res, max_res):\n",
    "#   pm = do_test(res, ninput, noise_level, n_test_samples, show_last_n_letters)\n",
    "#   pms.append(pm)"
   ]
  },
  {
   "cell_type": "markdown",
   "id": "mGePiq5diWuU",
   "metadata": {
    "id": "mGePiq5diWuU",
    "pycharm": {
     "name": "#%% md\n"
    }
   },
   "source": [
    "# Plots\n"
   ]
  },
  {
   "cell_type": "code",
   "execution_count": null,
   "id": "SKASe5G-f5_w",
   "metadata": {
    "id": "SKASe5G-f5_w",
    "pycharm": {
     "name": "#%%\n"
    }
   },
   "outputs": [],
   "source": [
    "pms = [pm]\n",
    "neurons = [28 * 28]\n",
    "fig, axs = plt.subplots(2, 2, figsize=(10, 10))\n",
    "# 1\n",
    "ax_num_acc = axs[0][0]\n",
    "ax_num_acc.plot(neurons, [np.mean(pm.is_correct) for pm in pms])\n",
    "ax_num_acc.set_xlabel('#Neurons')\n",
    "ax_num_acc.set_ylabel(\"Accuracy\")\n",
    "ax_num_acc.set_xticks(neurons)\n",
    "ax_num_acc.set_title(f\"#Neuron v.s. Accuracy (#trial = {n_test_samples}, #input_sample={ninput})\")\n",
    "\n",
    "\n",
    "# ax timestep accuracy\n",
    "ax_time_acc = axs[0][1]\n",
    "ax_time_acc.scatter([np.mean(pm.time) for pm in pms], [np.mean(pm.is_correct) for pm in pms])\n",
    "ax_time_acc.set_xlabel(f\"Mean timestamp on {n_test_samples} trials\")\n",
    "ax_time_acc.set_ylabel(\"Accuracy\")\n",
    "ax_time_acc.set_title(\"Mean timestamp v.s. Accuracy\")\n",
    "\n",
    "# ax energy accuracy\n",
    "ax_energy_acc = axs[1][0]\n",
    "ax_energy_acc.scatter([np.mean(pm.energy) for pm in pms], [np.mean(pm.is_correct) for pm in pms])\n",
    "ax_energy_acc.set_xlabel(f\"Mean energy on {n_test_samples} trials\")\n",
    "ax_energy_acc.set_ylabel(\"Accuracy\")\n",
    "ax_energy_acc.set_title(\"Mean energy v.s. Accuracy\")\n",
    "\n",
    "# ax energy accuracy\n",
    "ax_energy_time = axs[1][1]\n",
    "ax_energy_time.scatter([np.mean(pm.energy) for pm in pms], [np.mean(pm.time) for pm in pms])\n",
    "ax_energy_time.set_xlabel(\"Mean energy\")\n",
    "ax_energy_time.set_ylabel(\"Mean Timestamp\")\n",
    "ax_energy_time.set_title(\"Mean energy v.s. Mean Timestamp\")\n"
   ]
  },
  {
   "cell_type": "markdown",
   "id": "WscgaV2wuyKl",
   "metadata": {
    "id": "WscgaV2wuyKl",
    "pycharm": {
     "name": "#%% md\n"
    }
   },
   "source": [
    "### Exp2: Change the learning rule / activation functions"
   ]
  },
  {
   "cell_type": "code",
   "execution_count": null,
   "id": "sxMOqQeHu3ey",
   "metadata": {
    "id": "sxMOqQeHu3ey",
    "pycharm": {
     "name": "#%%\n"
    }
   },
   "outputs": [],
   "source": []
  },
  {
   "cell_type": "markdown",
   "id": "f1b6c3c4-d623-475e-9f8b-228f5b835ed5",
   "metadata": {
    "id": "f1b6c3c4-d623-475e-9f8b-228f5b835ed5",
    "pycharm": {
     "name": "#%% md\n"
    }
   },
   "source": [
    "# Plotting Template"
   ]
  },
  {
   "cell_type": "code",
   "execution_count": null,
   "id": "591cd4bd-5398-40b1-b855-058378c03b2e",
   "metadata": {
    "id": "591cd4bd-5398-40b1-b855-058378c03b2e",
    "pycharm": {
     "name": "#%%\n"
    }
   },
   "outputs": [],
   "source": [
    "# neurons = [25, 36, 49, 64, 81]\n",
    "# accuracy = [0.5, 0.6, 0.7, 0.8, 0.9]\n",
    "# time = [10, 50, 30, 10, 20]\n",
    "\n",
    "# fig, (ax1, ax2, ax3) = plt.subplots(1, 3, figsize=(12, 4))\n",
    "# ax1.plot(neurons, accuracy)\n",
    "# ax1.set_xlabel(\"#Neurons\")\n",
    "# ax1.set_ylabel(\"Accuracy\")\n",
    "# ax1.set_ylim(0, 1)\n",
    "\n",
    "# ax2.plot(neurons, time)\n",
    "# ax2.set_xlabel(\"#Neurons\")\n",
    "# ax2.set_ylabel(\"Time\")\n",
    "\n",
    "# ax3.plot(time, accuracy)\n",
    "# ax3.set_xlabel(\"Time\")\n",
    "# ax3.set_ylabel(\"Accuracy\")\n",
    "# ax3.set_ylim(0, 1)"
   ]
  },
  {
   "cell_type": "code",
   "execution_count": null,
   "id": "tLTk84sA-2G4",
   "metadata": {
    "id": "tLTk84sA-2G4",
    "pycharm": {
     "name": "#%%\n"
    }
   },
   "outputs": [],
   "source": []
  }
 ],
 "metadata": {
  "colab": {
   "collapsed_sections": [
    "a376f438-6832-4e22-9a74-a31cfa76d21f",
    "cRWUtYa3A2I5",
    "f74d9f32-d8c3-4e8a-88a1-58fae0a32eba",
    "WFtuBRFXFJiS",
    "YiRr1safhDYV",
    "sLqtgJGhdzKg",
    "f1b6c3c4-d623-475e-9f8b-228f5b835ed5"
   ],
   "name": "main_bjm_addplot.ipynb",
   "provenance": []
  },
  "kernelspec": {
   "display_name": "Python 3.8.5 ('base')",
   "language": "python",
   "name": "python3"
  },
  "language_info": {
   "codemirror_mode": {
    "name": "ipython",
    "version": 3
   },
   "file_extension": ".py",
   "mimetype": "text/x-python",
   "name": "python",
   "nbconvert_exporter": "python",
   "pygments_lexer": "ipython3",
   "version": "3.8.5"
  },
  "vscode": {
   "interpreter": {
    "hash": "1d1026617dd78001c52a204c5cd2cde2efafd1a3b285591fb0f82885a58dba3b"
   }
  }
 },
 "nbformat": 4,
 "nbformat_minor": 5
}