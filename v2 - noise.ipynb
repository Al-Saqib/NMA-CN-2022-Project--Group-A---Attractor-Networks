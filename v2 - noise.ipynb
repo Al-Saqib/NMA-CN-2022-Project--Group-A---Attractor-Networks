{
 "cells": [
  {
   "cell_type": "code",
   "execution_count": 9,
   "metadata": {},
   "outputs": [],
   "source": [
    "import numpy as np\n",
    "import matplotlib.pyplot as plt\n",
    "# from PIL import Image\n",
    "\n",
    "import hopfield\n",
    "import utilities as uti\n",
    "# import learning_rules as lrn\n",
    "# import activation_functions as afn\n",
    "# from datasets import Dataset_demoletters, Dataset_MNIST, Dataset_Demyan"
   ]
  },
  {
   "cell_type": "code",
   "execution_count": 10,
   "metadata": {},
   "outputs": [
    {
     "data": {
      "image/png": "[encoded data removed]",
      "text/plain": [
       "<Figure size 432x288 with 9 Axes>"
      ]
     },
     "metadata": {
      "needs_background": "light"
     },
     "output_type": "display_data"
    }
   ],
   "source": [
    "# Generate white noise samples\n",
    "\n",
    "alphabet_len = 9\n",
    "im_size = (3, 3)\n",
    "np.random.seed(42)\n",
    "\n",
    "white_noise_dataset = np.random.randint(0, 2, \n",
    "                                        size=(alphabet_len, im_size[0] * im_size[1]), \n",
    "                                        dtype='int') * 2 - 1\n",
    "\n",
    "for i in range(alphabet_len):\n",
    "    ax = plt.subplot(1, alphabet_len, i + 1)\n",
    "    uti.show_letter(white_noise_dataset[i], ax)\n"
   ]
  },
  {
   "cell_type": "code",
   "execution_count": 35,
   "metadata": {},
   "outputs": [
    {
     "name": "stdout",
     "output_type": "stream",
     "text": [
      "The number of memory patterns to be stored is > 14%% of the model size. This may lead to problems.ref: https://doi.org/10.3389/fncom.2016.00144\n",
      "0 True 0\n",
      "77\n",
      "1 True 0\n",
      "71\n",
      "2 True 0\n",
      "73\n",
      "3 True 0\n",
      "70\n",
      "4 True 0\n",
      "71\n",
      "5 True 0\n",
      "80\n",
      "6 True 0\n",
      "77\n",
      "7 True 0\n",
      "74\n",
      "8 True 0\n",
      "74\n"
     ]
    },
    {
     "data": {
      "image/png": "[encoded data removed]",
      "text/plain": [
       "<Figure size 432x288 with 18 Axes>"
      ]
     },
     "metadata": {
      "needs_background": "light"
     },
     "output_type": "display_data"
    }
   ],
   "source": [
    "hop_net = hopfield.HopfieldNetwork()\n",
    "hop_net.run(white_noise_dataset, \"hebbian\", \"sync_tanh\", 1000)"
   ]
  },
  {
   "cell_type": "code",
   "execution_count": 36,
   "metadata": {},
   "outputs": [],
   "source": [
    "# # Train the Hopfield net\n",
    "\n",
    "# hop_net = hopfield.HopfieldNetwork()\n",
    "# hop_net.TS_hebbian(white_noise_dataset)\n",
    "\n",
    "# noise_level = .0\n",
    "# n_test_samples = 3\n",
    "# n_iter = 1000\n",
    "# n_images = len(white_noise_dataset)\n",
    "# for i in range(n_test_samples):\n",
    "#     # add noise\n",
    "#     # random_idx = np.random.randint(0, n_images)\n",
    "#     random_idx = i % n_images\n",
    "#     x_test = white_noise_dataset[random_idx].copy()\n",
    "#     x_test = uti.add_noise(x_test, noise_level=noise_level)\n",
    "#     Xs = hop_net.inference_step(x_test, 10)\n",
    "#     is_correct, error = hop_net._validate(x_test, random_idx)\n",
    "#     print(random_idx, is_correct, error)\n",
    "\n",
    "#     ax = plt.subplot(n_test_samples, 2, i * 2 + 1)\n",
    "#     uti.show_letter(x_test, ax)\n",
    "#     ax = plt.subplot(n_test_samples, 2, i * 2 + 2)\n",
    "#     uti.show_letter(Xs[-1], ax)\n",
    "#     # print(x_test.dtype, Xs[-1].dtype)\n"
   ]
  },
  {
   "cell_type": "code",
   "execution_count": 37,
   "metadata": {},
   "outputs": [],
   "source": [
    "def sync_tanh(X, weights, gradient=1, threshold=0):\n",
    "    ws = weights.dot(X)\n",
    "    return np.tanh(gradient * (ws - threshold))\n",
    "\n",
    "def async_n_tanh(X, weights, n_choices=None, gradient=1, threshold=0):\n",
    "    X = X.astype(\"float\")\n",
    "    if n_choices == None:\n",
    "        n_choices = len(X)\n",
    "    elif n_choices >= len(X):\n",
    "        n_choices = len(X)\n",
    "\n",
    "    idx = np.random.choice(len(X), size=n_choices, replace=False)\n",
    "    idx_weights = np.zeros((len(idx), 2))\n",
    "\n",
    "    for n, i in enumerate(idx):\n",
    "        idx_weights[n][0] = i\n",
    "        idx_weights[n][1] = np.sum(X * weights[i])\n",
    "\n",
    "    for i_w in idx_weights:\n",
    "        new_weight = np.tanh(gradient * (i_w[1] - threshold))\n",
    "        X[int(i_w[0])] = new_weight\n",
    "    # print(X)\n",
    "    return X"
   ]
  },
  {
   "cell_type": "code",
   "execution_count": 38,
   "metadata": {},
   "outputs": [],
   "source": [
    "X = np.array([1, -1, 1])\n",
    "weights = np.array([[0, 1, 2],\n",
    "                    [3, 0, 4],\n",
    "                    [5, 6, 0]])"
   ]
  },
  {
   "cell_type": "code",
   "execution_count": 39,
   "metadata": {},
   "outputs": [
    {
     "name": "stdout",
     "output_type": "stream",
     "text": [
      "[ 0.76159416  0.99999834 -0.76159416]\n",
      "-----\n",
      "[ 0.76159416  0.99999834 -0.76159416]\n"
     ]
    }
   ],
   "source": [
    "print(sync_tanh(X.copy(), weights))\n",
    "print(\"-----\")\n",
    "print(async_n_tanh(X.copy(), weights))"
   ]
  },
  {
   "cell_type": "code",
   "execution_count": 40,
   "metadata": {},
   "outputs": [
    {
     "name": "stdout",
     "output_type": "stream",
     "text": [
      "[1 1 1]\n",
      "[[0 1 2]\n",
      " [3 0 4]\n",
      " [5 6 0]]\n",
      "-----------\n",
      "[8 7 6]\n",
      "[ 3  7 11]\n"
     ]
    }
   ],
   "source": [
    "X = np.array([1, 1, 1])\n",
    "weights = np.array([[0, 1, 2],\n",
    "                    [3, 0, 4],\n",
    "                    [5, 6, 0]])\n",
    "\n",
    "prod1 = np.dot(X, weights)\n",
    "prod2 = weights.dot(X)\n",
    "print(X)\n",
    "print(weights)\n",
    "print(\"-----------\")\n",
    "print(prod1)\n",
    "print(prod2)"
   ]
  }
 ],
 "metadata": {
  "kernelspec": {
   "display_name": "Python 3.8.5 ('base')",
   "language": "python",
   "name": "python3"
  },
  "language_info": {
   "codemirror_mode": {
    "name": "ipython",
    "version": 3
   },
   "file_extension": ".py",
   "mimetype": "text/x-python",
   "name": "python",
   "nbconvert_exporter": "python",
   "pygments_lexer": "ipython3",
   "version": "3.8.5"
  },
  "orig_nbformat": 4,
  "vscode": {
   "interpreter": {
    "hash": "1d1026617dd78001c52a204c5cd2cde2efafd1a3b285591fb0f82885a58dba3b"
   }
  }
 },
 "nbformat": 4,
 "nbformat_minor": 2
}
