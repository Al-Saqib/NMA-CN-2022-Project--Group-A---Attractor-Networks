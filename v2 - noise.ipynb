{
 "cells": [
  {
   "cell_type": "code",
   "execution_count": null,
   "metadata": {},
   "outputs": [],
   "source": [
    "import numpy as np\n",
    "import matplotlib.pyplot as plt\n",
    "# from PIL import Image\n",
    "\n",
    "import hopfield\n",
    "import utilities as uti\n",
    "# import learning_rules as lrn\n",
    "# import activation_functions as afn\n",
    "# from datasets import Dataset_demoletters, Dataset_MNIST, Dataset_Demyan"
   ]
  },
  {
   "cell_type": "code",
   "execution_count": null,
   "metadata": {},
   "outputs": [],
   "source": [
    "# Generate white noise samples\n",
    "\n",
    "alphabet_len = 9\n",
    "im_size = (3, 3)\n",
    "np.random.seed(42)\n",
    "\n",
    "white_noise_dataset = np.random.randint(0, 2, \n",
    "                                        size=(alphabet_len, im_size[0] * im_size[1]), \n",
    "                                        dtype='int') * 2 - 1\n",
    "\n",
    "for i in range(alphabet_len):\n",
    "    ax = plt.subplot(1, alphabet_len, i + 1)\n",
    "    uti.show_letter(white_noise_dataset[i], ax)\n"
   ]
  },
  {
   "cell_type": "code",
   "execution_count": null,
   "metadata": {},
   "outputs": [],
   "source": [
    "hop_net = hopfield.HopfieldNetwork()\n",
    "hop_net.run(white_noise_dataset, \"hebbian\", \"async_tanh\", 1000)"
   ]
  },
  {
   "cell_type": "code",
   "execution_count": null,
   "metadata": {},
   "outputs": [],
   "source": [
    "fig, axs = plt.subplots(1, 1, figsize=(10, 10))\n",
    "ax_energy_time = axs\n",
    "steps_to_plot = 100\n",
    "x_range = range(steps_to_plot)\n",
    "\n",
    "ef_list = [\"se_lin\", \"se_abs\", \"se_relu\"]\n",
    "energy_runs = []\n",
    "mean_diffs = [0]\n",
    "\n",
    "for ef in ef_list:\n",
    "    energy_runs.append(hop_net.sequence_energy(ef)[:steps_to_plot])\n",
    "\n",
    "for energy in energy_runs[1:]:\n",
    "    mean_diffs.append(np.mean(energy_runs[0] - energy))\n",
    "\n",
    "for i, ef in enumerate(ef_list):\n",
    "    mean_diffs = [0]*len(ef_list)\n",
    "    energy_states = energy_runs[i] + mean_diffs[i]\n",
    "    ax_energy_time.plot(x_range, energy_states, label=ef)\n",
    "plt.legend()\n"
   ]
  },
  {
   "cell_type": "code",
   "execution_count": null,
   "metadata": {},
   "outputs": [],
   "source": [
    "print(uti.show_letter(hop_net.weights))\n",
    "123"
   ]
  },
  {
   "cell_type": "code",
   "execution_count": null,
   "metadata": {},
   "outputs": [],
   "source": [
    "# pms = [pm]\n",
    "# neurons = [28 * 28]\n",
    "# fig, axs = plt.subplots(2, 2, figsize=(10, 10))\n",
    "# # 1\n",
    "# ax_num_acc = axs[0][0]\n",
    "# ax_num_acc.plot(neurons, [np.mean(pm.is_correct) for pm in pms])\n",
    "# ax_num_acc.set_xlabel('#Neurons')\n",
    "# ax_num_acc.set_ylabel(\"Accuracy\")\n",
    "# ax_num_acc.set_xticks(neurons)\n",
    "# ax_num_acc.set_title(f\"#Neuron v.s. Accuracy (#trial = {n_test_samples}, #input_sample={ninput})\")\n",
    "\n",
    "\n",
    "# # ax timestep accuracy\n",
    "# ax_time_acc = axs[0][1]\n",
    "# ax_time_acc.scatter([np.mean(pm.time) for pm in pms], [np.mean(pm.is_correct) for pm in pms])\n",
    "# ax_time_acc.set_xlabel(f\"Mean timestamp on {n_test_samples} trials\")\n",
    "# ax_time_acc.set_ylabel(\"Accuracy\")\n",
    "# ax_time_acc.set_title(\"Mean timestamp v.s. Accuracy\")\n",
    "\n",
    "# # ax energy accuracy\n",
    "# ax_energy_acc = axs[1][0]\n",
    "# ax_energy_acc.scatter([np.mean(pm.energy) for pm in pms], [np.mean(pm.is_correct) for pm in pms])\n",
    "# ax_energy_acc.set_xlabel(f\"Mean energy on {n_test_samples} trials\")\n",
    "# ax_energy_acc.set_ylabel(\"Accuracy\")\n",
    "# ax_energy_acc.set_title(\"Mean energy v.s. Accuracy\")\n",
    "\n",
    "# # ax energy accuracy\n",
    "# ax_energy_time = axs[1][1]\n",
    "# ax_energy_time.scatter([np.mean(pm.energy) for pm in pms], [np.mean(pm.time) for pm in pms])\n",
    "# ax_energy_time.set_xlabel(\"Mean energy\")\n",
    "# ax_energy_time.set_ylabel(\"Mean Timestamp\")\n",
    "# ax_energy_time.set_title(\"Mean energy v.s. Mean Timestamp\")\n"
   ]
  }
 ],
 "metadata": {
  "kernelspec": {
   "display_name": "Python 3.8.5 ('base')",
   "language": "python",
   "name": "python3"
  },
  "language_info": {
   "codemirror_mode": {
    "name": "ipython",
    "version": 3
   },
   "file_extension": ".py",
   "mimetype": "text/x-python",
   "name": "python",
   "nbconvert_exporter": "python",
   "pygments_lexer": "ipython3",
   "version": "3.8.5"
  },
  "orig_nbformat": 4,
  "vscode": {
   "interpreter": {
    "hash": "1d1026617dd78001c52a204c5cd2cde2efafd1a3b285591fb0f82885a58dba3b"
   }
  }
 },
 "nbformat": 4,
 "nbformat_minor": 2
}
